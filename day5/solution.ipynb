{
 "cells": [
  {
   "cell_type": "code",
   "execution_count": 34,
   "metadata": {},
   "outputs": [
    {
     "data": {
      "text/plain": [
       "<_io.TextIOWrapper name='input.txt' mode='r' encoding='UTF-8'>"
      ]
     },
     "execution_count": 34,
     "metadata": {},
     "output_type": "execute_result"
    }
   ],
   "source": [
    "input = open(\"input.txt\", \"r\")\n",
    "input"
   ]
  },
  {
   "cell_type": "code",
   "execution_count": 35,
   "metadata": {},
   "outputs": [],
   "source": [
    "boxes = [\n",
    "    ['B', 'S', 'J', 'Z', 'V', 'D', 'G'],\n",
    "    ['P', 'V', 'G', 'M', 'S', 'Z'],\n",
    "    ['F', 'Q', 'T', 'W', 'S', 'B', 'L', 'C'],\n",
    "    ['Q', 'V', 'R', 'M', 'W', 'G', 'J', 'H'],\n",
    "    ['D', 'M', 'F', 'N', 'S', 'L', 'C'],\n",
    "    ['D', 'C', 'G', 'R'],\n",
    "    ['Q', 'S', 'D', 'J', 'R', 'T', 'G', 'H'],\n",
    "    ['V', 'F', 'P'],\n",
    "    ['J', 'T', 'S', 'R', 'D']\n",
    "]"
   ]
  },
  {
   "cell_type": "code",
   "execution_count": 24,
   "metadata": {},
   "outputs": [
    {
     "data": {
      "text/plain": [
       "['B', 'S', 'J', 'Z', 'V', 'D', 'G']"
      ]
     },
     "execution_count": 24,
     "metadata": {},
     "output_type": "execute_result"
    }
   ],
   "source": [
    "boxes[1-1]"
   ]
  },
  {
   "cell_type": "code",
   "execution_count": 25,
   "metadata": {},
   "outputs": [],
   "source": [
    "lines = input.readlines()[10:]"
   ]
  },
  {
   "cell_type": "code",
   "execution_count": 26,
   "metadata": {},
   "outputs": [
    {
     "data": {
      "text/plain": [
       "[['W', 'Q', 'F', 'C', 'D', 'S', 'V', 'J'],\n",
       " ['C'],\n",
       " ['Z'],\n",
       " ['T', 'G', 'T', 'V', 'R', 'D', 'V'],\n",
       " ['H'],\n",
       " ['T'],\n",
       " ['M',\n",
       "  'J',\n",
       "  'R',\n",
       "  'S',\n",
       "  'P',\n",
       "  'R',\n",
       "  'V',\n",
       "  'D',\n",
       "  'B',\n",
       "  'L',\n",
       "  'S',\n",
       "  'F',\n",
       "  'D',\n",
       "  'J',\n",
       "  'H',\n",
       "  'G',\n",
       "  'M',\n",
       "  'B',\n",
       "  'G',\n",
       "  'S',\n",
       "  'Z',\n",
       "  'J'],\n",
       " ['P', 'D', 'M', 'F', 'Q', 'S', 'W'],\n",
       " ['S', 'Q', 'C', 'R', 'G', 'G', 'N', 'L']]"
      ]
     },
     "execution_count": 26,
     "metadata": {},
     "output_type": "execute_result"
    }
   ],
   "source": [
    "for line in lines:\n",
    "    text = line.split(' ')\n",
    "    num_to_move = int(text[1])\n",
    "    from_stack = int(text[3])\n",
    "    to_stack = int(text[5])\n",
    "\n",
    "    for i in range(0, num_to_move):\n",
    "        a = boxes[from_stack-1].pop(0)\n",
    "        boxes[to_stack-1].insert(0, a)\n",
    "boxes"
   ]
  },
  {
   "cell_type": "code",
   "execution_count": 32,
   "metadata": {},
   "outputs": [],
   "source": [
    "tester = [\n",
    "    ['N', 'Z'],\n",
    "    ['D', 'C', 'M'],\n",
    "    ['P']\n",
    "]\n",
    "testlines = [\n",
    "    'move 1 from 2 to 1',\n",
    "    'move 3 from 1 to 3',\n",
    "    'move 2 from 2 to 1',\n",
    "    'move 1 from 1 to 2']"
   ]
  },
  {
   "cell_type": "code",
   "execution_count": 33,
   "metadata": {},
   "outputs": [
    {
     "name": "stdout",
     "output_type": "stream",
     "text": [
      "[['D', 'N', 'Z'], ['C', 'M'], ['P']]\n",
      "[[], ['C', 'M'], ['D', 'N', 'Z', 'P']]\n",
      "[['C', 'M'], [], ['D', 'N', 'Z', 'P']]\n",
      "[['M'], ['C'], ['D', 'N', 'Z', 'P']]\n"
     ]
    },
    {
     "data": {
      "text/plain": [
       "[['M'], ['C'], ['D', 'N', 'Z', 'P']]"
      ]
     },
     "execution_count": 33,
     "metadata": {},
     "output_type": "execute_result"
    }
   ],
   "source": [
    "for line in testlines:\n",
    "    text = line.split(' ')\n",
    "    num_to_move = int(text[1])\n",
    "    from_stack = int(text[3])\n",
    "    to_stack = int(text[5])\n",
    "\n",
    "    acc = []\n",
    "    for i in range(0, num_to_move):\n",
    "        a = tester[from_stack-1].pop(0)\n",
    "        acc.append(a)\n",
    "    tester[to_stack-1] = acc + tester[to_stack-1]\n",
    "    print(tester)\n",
    "tester"
   ]
  },
  {
   "cell_type": "code",
   "execution_count": 36,
   "metadata": {},
   "outputs": [
    {
     "data": {
      "text/plain": [
       "[['B', 'C', 'C', 'V', 'L', 'M', 'F', 'D'],\n",
       " ['L'],\n",
       " ['S'],\n",
       " ['G', 'R', 'S', 'P', 'V', 'N', 'B'],\n",
       " ['J'],\n",
       " ['S'],\n",
       " ['D',\n",
       "  'D',\n",
       "  'Z',\n",
       "  'J',\n",
       "  'R',\n",
       "  'J',\n",
       "  'H',\n",
       "  'H',\n",
       "  'Q',\n",
       "  'W',\n",
       "  'J',\n",
       "  'T',\n",
       "  'D',\n",
       "  'T',\n",
       "  'G',\n",
       "  'M',\n",
       "  'C',\n",
       "  'R',\n",
       "  'Q',\n",
       "  'R',\n",
       "  'V',\n",
       "  'G'],\n",
       " ['T', 'G', 'P', 'Z', 'V', 'W', 'F'],\n",
       " ['S', 'S', 'F', 'G', 'S', 'M', 'Q', 'D']]"
      ]
     },
     "execution_count": 36,
     "metadata": {},
     "output_type": "execute_result"
    }
   ],
   "source": [
    "for line in lines:\n",
    "    text = line.split(' ')\n",
    "    num_to_move = int(text[1])\n",
    "    from_stack = int(text[3])\n",
    "    to_stack = int(text[5])\n",
    "\n",
    "    acc = []\n",
    "    for i in range(0, num_to_move):\n",
    "        a = boxes[from_stack-1].pop(0)\n",
    "        acc.append(a)\n",
    "    boxes[to_stack-1] = acc + boxes[to_stack-1]\n",
    "boxes"
   ]
  },
  {
   "cell_type": "code",
   "execution_count": null,
   "metadata": {},
   "outputs": [],
   "source": []
  }
 ],
 "metadata": {
  "kernelspec": {
   "display_name": "Python 3.9.6 64-bit",
   "language": "python",
   "name": "python3"
  },
  "language_info": {
   "codemirror_mode": {
    "name": "ipython",
    "version": 3
   },
   "file_extension": ".py",
   "mimetype": "text/x-python",
   "name": "python",
   "nbconvert_exporter": "python",
   "pygments_lexer": "ipython3",
   "version": "3.9.6"
  },
  "orig_nbformat": 4,
  "vscode": {
   "interpreter": {
    "hash": "31f2aee4e71d21fbe5cf8b01ff0e069b9275f58929596ceb00d14d90e3e16cd6"
   }
  }
 },
 "nbformat": 4,
 "nbformat_minor": 2
}
